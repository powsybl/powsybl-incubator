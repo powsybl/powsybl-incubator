{
 "cells": [
  {
   "cell_type": "markdown",
   "metadata": {},
   "source": [
    "```Copyright (c) 2019, RTE (http://www.rte-france.com)\n",
    "This Source Code Form is subject to the terms of the Mozilla Public\n",
    "License, v. 2.0. If a copy of the MPL was not distributed with this\n",
    "file, You can obtain one at http://mozilla.org/MPL/2.0/.```"
   ]
  },
  {
   "cell_type": "markdown",
   "metadata": {},
   "source": [
    "# Pypowsybl demo: powsybl code in a jupiter notebook"
   ]
  },
  {
   "cell_type": "markdown",
   "metadata": {},
   "source": [
    "## Activates powsybl java-python bridge"
   ]
  },
  {
   "cell_type": "code",
   "execution_count": null,
   "metadata": {
    "jupyter": {
     "source_hidden": true
    }
   },
   "outputs": [],
   "source": [
    "import pypowsybl_core\n",
    "\n",
    "import jpype\n",
    "import jpype.imports\n",
    "from jpype.types import*\n",
    "\n",
    "def init_jvm(jvmpath=None):\n",
    "    if jpype.isJVMStarted():\n",
    "        return\n",
    "    jpype.startJVM(jpype.getDefaultJVMPath(), \"-ea\", convertStrings=False)\n",
    "\n",
    "init_jvm()\n",
    "\n",
    "# imports powsybl classes (java)\n",
    "from java.nio.file import Path, Paths\n",
    "from com.powsybl.loadflow import LoadFlow, LoadFlowResult, LoadFlowParameters\n",
    "from com.powsybl.iidm.export import Exporters\n",
    "from java.io import File\n",
    "# needed to do this way, because of the underscore character, which has a special meaning in Python\n",
    "pimport = jpype.JPackage('com.powsybl.iidm.import_')\n",
    "\n",
    "from com.powsybl.sld import SubstationDiagram,VoltageLevelDiagram,NetworkGraphBuilder\n",
    "from com.powsybl.sld.layout import HorizontalSubstationLayoutFactory,LayoutParameters,SubstationLayoutFactory\n",
    "from com.powsybl.sld.layout import VoltageLevelLayoutFactory,PositionVoltageLevelLayoutFactory,PositionFree\n",
    "from com.powsybl.sld.library import ComponentLibrary,ResourcesComponentLibrary\n",
    "from com.powsybl.sld.svg import DefaultDiagramInitialValueProvider\n",
    "from com.powsybl.sld.util import NominalVoltageDiagramStyleProvider\n",
    "\n",
    "from IPython.core.display import display,SVG,HTML"
   ]
  },
  {
   "cell_type": "markdown",
   "metadata": {},
   "source": [
    "## Defines some utility functions"
   ]
  },
  {
   "cell_type": "code",
   "execution_count": null,
   "metadata": {
    "jupyter": {
     "source_hidden": true
    }
   },
   "outputs": [],
   "source": [
    "#print network's flow to stdout\n",
    "def dumpLinesFlow(network, headline):\n",
    "    print(\"\\n{}\".format(headline))\n",
    "    lines = network.getLines()\n",
    "    print(\"line id;terminal1.I;terminal2.I\")\n",
    "    for line in lines:\n",
    "        print(\"{};{};{}\".format(line.getId(), line.getTerminal1().getI(), line.getTerminal2().getI()))\n",
    "\n",
    "#create an svg file, for a specific substation\n",
    "def writeSubstationSvg(substation, outfile):\n",
    "    parameters = LayoutParameters()\n",
    "    voltageLevelLayoutFactory = PositionVoltageLevelLayoutFactory(PositionFree())\n",
    "    substationLayoutFactory = HorizontalSubstationLayoutFactory()\n",
    "    componentLibrary = ResourcesComponentLibrary(\"/ConvergenceLibrary\")\n",
    "    networkGraphBuilder = NetworkGraphBuilder(substation.getNetwork())\n",
    "    diagramValueProvider = DefaultDiagramInitialValueProvider(network)\n",
    "    styleProvider = NominalVoltageDiagramStyleProvider(network)\n",
    "    SubstationDiagram.build(networkGraphBuilder, substation.getId(), substationLayoutFactory, voltageLevelLayoutFactory, True)        .writeSvg('', componentLibrary, parameters, diagramValueProvider, styleProvider, Paths.get(outfile))\n",
    "\n",
    "#display an svg file, setting/overwriting its declared size: width, height\n",
    "def showSvg(svgs, width=700, height=700):\n",
    "    SVG_HEAD = '''<?xml version=\"1.0\" standalone=\"no\"?><!DOCTYPE svg PUBLIC \"-//W3C//DTD SVG 1.1//EN\" \"http://www.w3.org/Graphics/SVG/1.1/DTD/svg11.dtd\">'''\n",
    "    SVG_START = '''<svg width=\"{w:}px\" height=\"{h:}px\" version=\"1.1\" xmlns=\"http://www.w3.org/2000/svg\" xmlns:xlink= \"http://www.w3.org/1999/xlink\">'''\n",
    "    SVG_END = '</svg>'\n",
    "    return display(SVG(SVG_HEAD + SVG_START.format(w=width, h=height) + SVG(svgs)._repr_svg_() + SVG_END))\n",
    "\n",
    "#display a substation, inline \n",
    "def displaySubstation(substation):\n",
    "    import uuid\n",
    "    svgFileName = str(\"/tmp/substation_{}.svg\".format(uuid.uuid4()))\n",
    "    writeSubstationSvg(substation,svgFileName)\n",
    "    showSvg(svgFileName)\n",
    "\n"
   ]
  },
  {
   "cell_type": "markdown",
   "metadata": {},
   "source": [
    "## Loads a test network from an xiidm file**"
   ]
  },
  {
   "cell_type": "code",
   "execution_count": null,
   "metadata": {},
   "outputs": [],
   "source": [
    "network = pimport.Importers.loadNetwork(Paths.get(\"./eurostag-tutorial-example1.xml\"))"
   ]
  },
  {
   "cell_type": "markdown",
   "metadata": {},
   "source": [
    "## Dumps the network's lines flow, before running a loadflow"
   ]
  },
  {
   "cell_type": "code",
   "execution_count": null,
   "metadata": {},
   "outputs": [],
   "source": [
    "dumpLinesFlow(network,\"Flow on lines for network: {} - PRE-LOADFLOW\".format(network.getId()))"
   ]
  },
  {
   "cell_type": "markdown",
   "metadata": {},
   "source": [
    "## Displays substation P1's graph inline"
   ]
  },
  {
   "cell_type": "code",
   "execution_count": null,
   "metadata": {},
   "outputs": [],
   "source": [
    "displaySubstation(network.getSubstation(\"P1\"))"
   ]
  },
  {
   "cell_type": "markdown",
   "metadata": {},
   "source": [
    "## Runs a loadflow"
   ]
  },
  {
   "cell_type": "code",
   "execution_count": null,
   "metadata": {},
   "outputs": [],
   "source": [
    "result = LoadFlow.run(network, LoadFlowParameters.load())\n",
    "print(\"Loadflow result = isOK: {}, metrics: {}\\n\".format(result.isOk(), result.getMetrics()))"
   ]
  },
  {
   "cell_type": "markdown",
   "metadata": {},
   "source": [
    "## Dumps network's lines flow, after the loadflow"
   ]
  },
  {
   "cell_type": "code",
   "execution_count": null,
   "metadata": {},
   "outputs": [],
   "source": [
    "dumpLinesFlow(network,\"Flow on lines for network: {} - POST-LOADFLOW\".format(network.getId()))"
   ]
  },
  {
   "cell_type": "markdown",
   "metadata": {},
   "source": [
    "## Displays substation P1's graph inline, after the loadflow"
   ]
  },
  {
   "cell_type": "code",
   "execution_count": null,
   "metadata": {},
   "outputs": [],
   "source": [
    "displaySubstation(network.getSubstation(\"P1\"))"
   ]
  },
  {
   "cell_type": "markdown",
   "metadata": {},
   "source": [
    "## Dumps generator GEN's P and Q ,at its terminal"
   ]
  },
  {
   "cell_type": "code",
   "execution_count": null,
   "metadata": {},
   "outputs": [],
   "source": [
    "print(\"P={}\".format(network.getGenerator(\"GEN\").getTerminal().getP()))\n",
    "print(\"Q={}\".format(network.getGenerator(\"GEN\").getTerminal().getQ()))"
   ]
  }
 ],
 "metadata": {
  "kernelspec": {
   "display_name": "Python 3",
   "language": "python",
   "name": "python3"
  },
  "language_info": {
   "codemirror_mode": {
    "name": "ipython",
    "version": 3
   },
   "file_extension": ".py",
   "mimetype": "text/x-python",
   "name": "python",
   "nbconvert_exporter": "python",
   "pygments_lexer": "ipython3",
   "version": "3.6.3"
  }
 },
 "nbformat": 4,
 "nbformat_minor": 4
}
